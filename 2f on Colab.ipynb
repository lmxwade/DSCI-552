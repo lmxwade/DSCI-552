{
 "cells": [
  {
   "cell_type": "code",
   "execution_count": 1,
   "metadata": {
    "id": "1qRHiHuejcsd"
   },
   "outputs": [],
   "source": [
    "import os\n",
    "import re\n",
    "import numpy as np\n",
    "import pandas as pd\n",
    "import seaborn as sns\n",
    "import matplotlib.pyplot as plt\n",
    "\n",
    "import warnings\n",
    "warnings.filterwarnings(\"ignore\")\n",
    "from sklearn.impute import SimpleImputer\n",
    "from sklearn.ensemble import RandomForestClassifier\n",
    "from sklearn.metrics import confusion_matrix, roc_curve, auc, f1_score, accuracy_score\n",
    "from imblearn.over_sampling import SMOTE\n"
   ]
  },
  {
   "cell_type": "markdown",
   "metadata": {},
   "source": [
    "# 2.(f)"
   ]
  },
  {
   "cell_type": "code",
   "execution_count": 3,
   "metadata": {
    "colab": {
     "base_uri": "https://localhost:8080/"
    },
    "id": "c33-JJWwjjF7",
    "outputId": "faaaa5b3-572f-4e43-fad9-817656c12d04"
   },
   "outputs": [
    {
     "name": "stdout",
     "output_type": "stream",
     "text": [
      "Mounted at /content/drive\n"
     ]
    }
   ],
   "source": [
    "'''\n",
    "for this 2e, it took too long for me to run on my labtop so I did it on Colab\n",
    "Thanks for understanding\n",
    "'''\n",
    "from google.colab import drive\n",
    "drive.mount('/content/drive')"
   ]
  },
  {
   "cell_type": "code",
   "execution_count": 4,
   "metadata": {
    "id": "5-6YKwBnjlzA"
   },
   "outputs": [],
   "source": [
    "aps_train_path = '/content/drive/My Drive/data/aps_failure_training_set.csv'\n",
    "aps_test_path = '/content/drive/My Drive/data/aps_failure_test_set.csv'\n",
    "\n",
    "aps_train = pd.read_csv(aps_train_path, skiprows=20, na_values = 'na')\n",
    "aps_test = pd.read_csv(aps_test_path, skiprows=20, na_values = 'na')\n",
    "aps_all = pd.concat([aps_train, aps_test])"
   ]
  },
  {
   "cell_type": "code",
   "execution_count": 5,
   "metadata": {
    "id": "Ni6vZ4wTj5zx"
   },
   "outputs": [],
   "source": [
    "aps_train_X = aps_train.iloc[:, 1:]\n",
    "aps_train_Y = aps_train.iloc[:, 0]\n",
    "aps_test_X = aps_test.iloc[:, 1:]\n",
    "aps_test_Y = aps_test.iloc[:, 0]"
   ]
  },
  {
   "cell_type": "code",
   "execution_count": 6,
   "metadata": {
    "id": "dz_Bb6rljxPh"
   },
   "outputs": [],
   "source": [
    "\n",
    "impute = SimpleImputer(missing_values=np.nan, strategy='mean')\n",
    "\n",
    "\n",
    "# apply imputation \n",
    "aps_train_X = pd.DataFrame(impute.fit_transform(aps_train_X), columns=aps_train.columns[1:])\n",
    "aps_test_X = pd.DataFrame(impute.fit_transform(aps_test_X), columns=aps_test.columns[1:])"
   ]
  },
  {
   "cell_type": "code",
   "execution_count": 31,
   "metadata": {
    "id": "NXn7elkqjz25"
   },
   "outputs": [],
   "source": [
    "smote = SMOTE(random_state=12345)\n",
    "smote_weka_trainX, smote_weka_trainY = smote.fit_sample(aps_train_X,\n",
    "                                                       aps_train_Y.replace({0.0 : 'neg', 1.0 : 'pos'}))"
   ]
  },
  {
   "cell_type": "code",
   "execution_count": 15,
   "metadata": {
    "id": "x_ENAS2okgIX"
   },
   "outputs": [],
   "source": [
    "df = pd.DataFrame(smote_weka_trainX, columns = aps_train_X.columns)\n",
    "df['class'] = smote_weka_trainY\n",
    "df['class'] = df['class'].replace({0.0 : 'neg', 1.0 : 'pos'})"
   ]
  },
  {
   "cell_type": "code",
   "execution_count": 7,
   "metadata": {
    "id": "4tLX2NbDkMgJ"
   },
   "outputs": [],
   "source": [
    "# save SMOTE trainning set \n",
    "smote_train_path = '/content/drive/My Drive/data/smote_weka_train.csv'\n",
    "df.to_csv(smote_train_path, index=False)"
   ]
  },
  {
   "cell_type": "code",
   "execution_count": 8,
   "metadata": {
    "id": "ewbnRJjOmgi4"
   },
   "outputs": [],
   "source": [
    "weka_test_path = '/content/drive/My Drive/data/weka_test.csv'\n"
   ]
  },
  {
   "cell_type": "code",
   "execution_count": 9,
   "metadata": {
    "colab": {
     "base_uri": "https://localhost:8080/"
    },
    "id": "LCBjHyaWlJGo",
    "outputId": "04112e9c-63bf-4931-ffae-a831dc70dce0"
   },
   "outputs": [
    {
     "name": "stderr",
     "output_type": "stream",
     "text": [
      "DEBUG:weka.core.jvm:Adding bundled jars\n",
      "DEBUG:weka.core.jvm:Classpath=['/usr/local/lib/python3.7/dist-packages/javabridge/jars/rhino-1.7R4.jar', '/usr/local/lib/python3.7/dist-packages/javabridge/jars/runnablequeue.jar', '/usr/local/lib/python3.7/dist-packages/javabridge/jars/cpython.jar', '/usr/local/lib/python3.7/dist-packages/weka/lib/weka.jar', '/usr/local/lib/python3.7/dist-packages/weka/lib/python-weka-wrapper.jar']\n",
      "DEBUG:weka.core.jvm:MaxHeapSize=default\n",
      "DEBUG:weka.core.jvm:Package support disabled\n"
     ]
    }
   ],
   "source": [
    "import weka.core.jvm as jvm\n",
    "import javabridge\n",
    "jvm.start()\n",
    "from weka.classifiers import Classifier, Evaluation\n",
    "from weka.core.converters import Loader\n",
    "from weka.core.classes import Random\n",
    "import weka.plot.classifiers as plcls"
   ]
  },
  {
   "cell_type": "code",
   "execution_count": 10,
   "metadata": {
    "id": "41l26wDJlVMJ"
   },
   "outputs": [],
   "source": [
    "weka_loader = Loader(classname=\"weka.core.converters.CSVLoader\")\n",
    "smote_train = weka_loader.load_file(smote_train_path)\n",
    "weka_test = weka_loader.load_file(weka_test_path)\n",
    "smote_train.class_is_last()\n",
    "weka_test.class_is_last()"
   ]
  },
  {
   "cell_type": "code",
   "execution_count": 21,
   "metadata": {
    "id": "V3fBhlADlXQ2"
   },
   "outputs": [],
   "source": [
    "# create LMT model and do 5-fold croos-validation\n",
    "lmt = Classifier(classname='weka.classifiers.trees.LMT')\n",
    "evl = Evaluation(smote_train)\n",
    "evl.crossvalidate_model(classifier=lmt, data=smote_train, num_folds = 5, rnd=Random(12345))"
   ]
  },
  {
   "cell_type": "code",
   "execution_count": 22,
   "metadata": {
    "colab": {
     "base_uri": "https://localhost:8080/"
    },
    "id": "Jc6VsK5flZBw",
    "outputId": "9ddd0472-a5dd-45a3-8584-b936ba80a415"
   },
   "outputs": [
    {
     "name": "stdout",
     "output_type": "stream",
     "text": [
      "[[57864.  1136.]\n",
      " [ 1169. 57831.]]\n"
     ]
    }
   ],
   "source": [
    "# training set confusion matrix\n",
    "print(evl.confusion_matrix)"
   ]
  },
  {
   "cell_type": "code",
   "execution_count": 23,
   "metadata": {
    "colab": {
     "base_uri": "https://localhost:8080/",
     "height": 294
    },
    "id": "OjBG-UpWlaVr",
    "outputId": "2d6d5d03-ac76-4597-b90f-d7ce8e6acd6c"
   },
   "outputs": [
    {
     "data": {
      "image/png": "[encoded data removed]",
      "text/plain": [
       "<Figure size 432x288 with 1 Axes>"
      ]
     },
     "metadata": {
      "needs_background": "light"
     },
     "output_type": "display_data"
    }
   ],
   "source": [
    "# plot training set ROC curve and  AUC\n",
    "plcls.plot_roc(evl, class_index=[0, 1], wait=True)"
   ]
  },
  {
   "cell_type": "code",
   "execution_count": 24,
   "metadata": {
    "colab": {
     "base_uri": "https://localhost:8080/"
    },
    "id": "UVmd4TITlbrj",
    "outputId": "59dd3280-fbde-43a7-c600-21c9c7c65a63"
   },
   "outputs": [
    {
     "name": "stdout",
     "output_type": "stream",
     "text": [
      "\n",
      "Correctly Classified Instances      115695               98.0466 %\n",
      "Incorrectly Classified Instances      2305                1.9534 %\n",
      "Kappa statistic                          0.9609\n",
      "Mean absolute error                      0.0335\n",
      "Root mean squared error                  0.1266\n",
      "Relative absolute error                  6.7002 %\n",
      "Root relative squared error             25.315  %\n",
      "Total Number of Instances           118000     \n",
      "\n",
      "=== Detailed Accuracy By Class ===\n",
      "\n",
      "                 TP Rate  FP Rate  Precision  Recall   F-Measure  MCC      ROC Area  PRC Area  Class\n",
      "                 0.981    0.020    0.980      0.981    0.980      0.961    0.995     0.995     neg\n",
      "                 0.980    0.019    0.981      0.980    0.980      0.961    0.995     0.992     pos\n",
      "Weighted Avg.    0.980    0.020    0.980      0.980    0.980      0.961    0.995     0.994     \n",
      "\n"
     ]
    }
   ],
   "source": [
    "# training set report details\n",
    "print(evl.summary())\n",
    "print(evl.class_details())"
   ]
  },
  {
   "cell_type": "code",
   "execution_count": 12,
   "metadata": {
    "id": "PNAPRyWAl1CO"
   },
   "outputs": [],
   "source": [
    "# build the classifier with training data\n",
    "lmt = Classifier(classname='weka.classifiers.trees.LMT')\n",
    "lmt.build_classifier(smote_train)\n",
    "\n",
    "weka_test_predict = []\n",
    "weka_test_proba = []\n",
    "\n",
    "# make prediction \n",
    "for inst in weka_test:\n",
    "    weka_test_predict.append(lmt.classify_instance(inst))\n",
    "    weka_test_proba.append(lmt.distribution_for_instance(inst))\n",
    "\n",
    "weka_test_predict = np.array(weka_test_predict).astype('str')\n",
    "weka_test_predict[weka_test_predict == '0.0'] = 'neg'\n",
    "weka_test_predict[weka_test_predict == '1.0'] = 'pos'\n",
    "weka_test_proba = np.array(weka_test_proba)"
   ]
  },
  {
   "cell_type": "code",
   "execution_count": 13,
   "metadata": {
    "id": "thQyu65V7kwd"
   },
   "outputs": [],
   "source": [
    "def model_plot(true_tag, predict, prob, title):\n",
    "    conf_mat = confusion_matrix(true_tag, predict)\n",
    "    print(\"The confusion for {} set is \\n{}\".format(title, conf_mat))\n",
    "    acc = accuracy_score(true_tag, predict)\n",
    "    print(\"The classification accuracy is %0.4f\" % acc)\n",
    "    fpr, tpr, thresholds = roc_curve(true_tag, prob[:, 1], pos_label='pos')\n",
    "    roc_auc = auc(fpr, tpr)\n",
    "    fig, axes = plt.subplots(figsize=(12, 8))\n",
    "    axes.plot(fpr, tpr, label='ROC curve (area = %0.4f)' % roc_auc)\n",
    "    axes.plot([0, 1], [0, 1], \"--\")\n",
    "    axes.set_xlabel(\"False Positive Rate\")\n",
    "    axes.set_ylabel(\"True Positive Rate\")\n",
    "    axes.legend()\n",
    "    axes.set_title(\"ROC curves of {} set\".format(title))\n",
    "    plt.show()\n",
    "    plt.close()"
   ]
  },
  {
   "cell_type": "code",
   "execution_count": 15,
   "metadata": {
    "colab": {
     "base_uri": "https://localhost:8080/",
     "height": 528
    },
    "id": "Mk-g6fvkTS2m",
    "outputId": "704e5b8f-71eb-4549-9bb5-fdbf042e4e9c"
   },
   "outputs": [
    {
     "name": "stdout",
     "output_type": "stream",
     "text": [
      "The confusion matirx for test set is \n",
      "[[15102   523]\n",
      " [   61   314]]\n",
      "The classification accuracy is 0.96350\n"
     ]
    },
    {
     "data": {
      "image/png": "[encoded data removed]",
      "text/plain": [
       "<Figure size 864x504 with 1 Axes>"
      ]
     },
     "metadata": {
      "needs_background": "light"
     },
     "output_type": "display_data"
    }
   ],
   "source": [
    "# test set\n",
    "model_plot(aps_test_Y, weka_test_predict, weka_test_proba, 'test')"
   ]
  },
  {
   "cell_type": "markdown",
   "metadata": {
    "id": "X3aAvXIuTdl-"
   },
   "source": [
    "Other than CM, ROC, AUC for training and test set.\n",
    "Under 5 folds CV and smote, the training set's error is 0.0195 and test set's error is 0.0365.\n",
    "So after smote the eror for training set and test set both increase a lot compared to previous methods."
   ]
  },
  {
   "cell_type": "code",
   "execution_count": null,
   "metadata": {},
   "outputs": [],
   "source": []
  }
 ],
 "metadata": {
  "colab": {
   "name": "2e.ipynb",
   "provenance": []
  },
  "kernelspec": {
   "display_name": "Python 3",
   "language": "python",
   "name": "python3"
  },
  "language_info": {
   "codemirror_mode": {
    "name": "ipython",
    "version": 3
   },
   "file_extension": ".py",
   "mimetype": "text/x-python",
   "name": "python",
   "nbconvert_exporter": "python",
   "pygments_lexer": "ipython3",
   "version": "3.8.0"
  }
 },
 "nbformat": 4,
 "nbformat_minor": 1
}

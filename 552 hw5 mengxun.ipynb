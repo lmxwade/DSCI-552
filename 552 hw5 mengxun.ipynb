{
 "cells": [
  {
   "cell_type": "code",
   "execution_count": 1,
   "metadata": {},
   "outputs": [],
   "source": [
    "import os\n",
    "import re\n",
    "import numpy as np\n",
    "import pandas as pd\n",
    "import seaborn as sns\n",
    "import matplotlib.pyplot as plt\n",
    "\n",
    "import random\n",
    "import math\n",
    "import warnings\n",
    "warnings.filterwarnings(\"ignore\")\n",
    "\n",
    "plt.style.use('ggplot')\n",
    "from sklearn.metrics import hamming_loss\n",
    "from sklearn.model_selection import GridSearchCV\n",
    "from sklearn.model_selection import StratifiedKFold\n",
    "from sklearn.metrics import classification_report, confusion_matrix, f1_score\n",
    "from sklearn.svm import SVC\n",
    "\n",
    "\n",
    "\n",
    "from imblearn.pipeline import Pipeline\n",
    "from imblearn.over_sampling import SMOTE\n",
    "from sklearn.svm import LinearSVC\n"
   ]
  },
  {
   "cell_type": "markdown",
   "metadata": {},
   "source": [
    "# 1. Multi-class and Multi-Label Classification Using Support Vector Machines"
   ]
  },
  {
   "cell_type": "code",
   "execution_count": 2,
   "metadata": {},
   "outputs": [],
   "source": [
    "mfcc_path = \"../data/Frogs_MFCCs.csv\"\n",
    "\n",
    "mfcc_data = pd.read_csv(mfcc_path)"
   ]
  },
  {
   "cell_type": "code",
   "execution_count": 3,
   "metadata": {},
   "outputs": [],
   "source": [
    "mfcc_data['Family'], family_labels = pd.factorize(mfcc_data['Family'])\n",
    "mfcc_data['Genus'], genus_labels = pd.factorize(mfcc_data['Genus'])\n",
    "mfcc_data['Species'], species_labels = pd.factorize(mfcc_data['Species'])\n"
   ]
  },
  {
   "cell_type": "code",
   "execution_count": 4,
   "metadata": {},
   "outputs": [],
   "source": [
    "#split 70% for training\n",
    "\n",
    "train = random.sample(range(mfcc_data.shape[0]), math.ceil(mfcc_data.shape[0]*0.7))\n",
    "train.sort()\n",
    "test = [i for i in range(mfcc_data.shape[0]) if i not in train ]"
   ]
  },
  {
   "cell_type": "code",
   "execution_count": 5,
   "metadata": {},
   "outputs": [
    {
     "data": {
      "text/plain": [
       "(7195, 5037)"
      ]
     },
     "execution_count": 5,
     "metadata": {},
     "output_type": "execute_result"
    }
   ],
   "source": [
    "len(mfcc_data), len(train)"
   ]
  },
  {
   "cell_type": "code",
   "execution_count": 6,
   "metadata": {},
   "outputs": [],
   "source": [
    "train_data = mfcc_data.iloc[train,:].reset_index(drop = True)\n",
    "test_data = mfcc_data.iloc[test,:].reset_index(drop=True)\n"
   ]
  },
  {
   "cell_type": "code",
   "execution_count": 54,
   "metadata": {},
   "outputs": [],
   "source": [
    "# split train features and labels\n",
    "train_X = train_data.iloc[:, :-4]\n",
    "train_Family = train_data.iloc[:, -4]\n",
    "train_Genus = train_data.iloc[:, -3]\n",
    "train_Species = train_data.iloc[:, -2]\n",
    "\n",
    "# split test features and labels\n",
    "test_X = test_data.iloc[:, :-4]\n",
    "test_Family = test_data.iloc[:, -4]\n",
    "test_Genus = test_data.iloc[:, -3]\n",
    "test_Species = test_data.iloc[:, -2]"
   ]
  },
  {
   "cell_type": "code",
   "execution_count": 8,
   "metadata": {},
   "outputs": [
    {
     "data": {
      "text/plain": [
       "(5037, 26)"
      ]
     },
     "execution_count": 8,
     "metadata": {},
     "output_type": "execute_result"
    }
   ],
   "source": [
    "train_data.shape\n"
   ]
  },
  {
   "cell_type": "markdown",
   "metadata": {},
   "source": [
    "## 1.(b) Solve a multi-class and multi-label problem¶\n",
    "\n",
    "1.(b)-i Exact match and hamming score/ loss methods for evaluating multi-label classification¶\n",
    "\n",
    "Hamming Loss: the fraction of the wrong labels to the total number of labels\n",
    "\n",
    "Exact Match Ratio: percentage of datapoints that have all their labels classified 100% correctly\n"
   ]
  },
  {
   "cell_type": "markdown",
   "metadata": {},
   "source": [
    "## 1.(b)-ii Train a SVM for each of the labels, using Gaussian kernels and one versus all classifiers"
   ]
  },
  {
   "cell_type": "code",
   "execution_count": 9,
   "metadata": {},
   "outputs": [],
   "source": [
    "# define a param search function that will be easy to apply\n",
    "\n",
    "def paramSearch(classifier, param, trainX, trainY, testX, testY):\n",
    "    model = GridSearchCV(estimator=classifier, **param,error_score=np.NINF)\n",
    "    model.fit(trainX, trainY)    \n",
    "    \n",
    "    print(\"\\nThe best parameters are:\")\n",
    "    print(model.best_params_, \"\\n\")\n",
    "    \n",
    "    test_pred = model.predict(testX)\n",
    "\n",
    "    print(classification_report(testY, test_pred))\n",
    "    return model"
   ]
  },
  {
   "cell_type": "markdown",
   "metadata": {},
   "source": [
    "** Gaussian SVC without standardization **"
   ]
  },
  {
   "cell_type": "code",
   "execution_count": 10,
   "metadata": {},
   "outputs": [],
   "source": [
    "#create a set to store model results \n",
    "gaussian_SVC = {}\n",
    "\n",
    "#creat a list of parameters \n",
    "tune_params = {'C' : np.logspace(1, 3,3 ),'gamma' : np.logspace(-1, 5, 7)}\n",
    "\n",
    "# create a data splitter for cross-validation\n",
    "split = StratifiedKFold(10, random_state=1234, shuffle=True)\n",
    "\n",
    "params = {\n",
    "    'param_grid' : tune_params, \n",
    "    'cv' : split,\n",
    "    'scoring' : 'f1_weighted'\n",
    "}"
   ]
  },
  {
   "cell_type": "code",
   "execution_count": 11,
   "metadata": {},
   "outputs": [
    {
     "name": "stdout",
     "output_type": "stream",
     "text": [
      "\n",
      "The best parameters are:\n",
      "{'C': 100.0, 'gamma': 1.0} \n",
      "\n",
      "              precision    recall  f1-score   support\n",
      "\n",
      "           0       1.00      0.99      0.99      1384\n",
      "           1       0.99      1.00      0.99       169\n",
      "           2       0.98      0.99      0.99       589\n",
      "           3       0.88      0.88      0.88        16\n",
      "\n",
      "    accuracy                           0.99      2158\n",
      "   macro avg       0.96      0.96      0.96      2158\n",
      "weighted avg       0.99      0.99      0.99      2158\n",
      "\n"
     ]
    }
   ],
   "source": [
    "#record the result \n",
    "gaussian_SVC['Family'] = paramSearch(SVC(kernel='rbf'), params,train_X, train_Family, test_X, test_Family)"
   ]
  },
  {
   "cell_type": "code",
   "execution_count": 12,
   "metadata": {},
   "outputs": [
    {
     "name": "stdout",
     "output_type": "stream",
     "text": [
      "\n",
      "The best parameters are:\n",
      "{'C': 100.0, 'gamma': 1.0} \n",
      "\n",
      "              precision    recall  f1-score   support\n",
      "\n",
      "           0       1.00      1.00      1.00      1301\n",
      "           1       0.99      1.00      1.00       169\n",
      "           2       0.97      0.97      0.97        89\n",
      "           3       0.99      0.99      0.99       421\n",
      "           4       0.98      0.99      0.98        83\n",
      "           5       0.97      0.92      0.95        38\n",
      "           6       1.00      0.94      0.97        16\n",
      "           7       1.00      1.00      1.00        41\n",
      "\n",
      "    accuracy                           0.99      2158\n",
      "   macro avg       0.99      0.98      0.98      2158\n",
      "weighted avg       0.99      0.99      0.99      2158\n",
      "\n"
     ]
    }
   ],
   "source": [
    "gaussian_SVC['Genus'] = paramSearch(SVC(kernel='rbf'), params,train_X, train_Genus, test_X, test_Genus)"
   ]
  },
  {
   "cell_type": "code",
   "execution_count": 13,
   "metadata": {},
   "outputs": [
    {
     "name": "stdout",
     "output_type": "stream",
     "text": [
      "\n",
      "The best parameters are:\n",
      "{'C': 10.0, 'gamma': 1.0} \n",
      "\n",
      "              precision    recall  f1-score   support\n",
      "\n",
      "           0       0.98      0.98      0.98       228\n",
      "           1       0.99      0.99      0.99       169\n",
      "           2       1.00      1.00      1.00      1073\n",
      "           3       0.96      0.98      0.97        89\n",
      "           4       0.95      0.98      0.97       129\n",
      "           5       0.99      0.99      0.99       292\n",
      "           6       0.98      0.99      0.98        83\n",
      "           7       1.00      0.89      0.94        38\n",
      "           8       1.00      0.94      0.97        16\n",
      "           9       1.00      1.00      1.00        41\n",
      "\n",
      "    accuracy                           0.99      2158\n",
      "   macro avg       0.99      0.97      0.98      2158\n",
      "weighted avg       0.99      0.99      0.99      2158\n",
      "\n"
     ]
    }
   ],
   "source": [
    "gaussian_SVC['Species'] = paramSearch(SVC(kernel='rbf'), params,train_X, train_Species, test_X, test_Species)"
   ]
  },
  {
   "cell_type": "code",
   "execution_count": 14,
   "metadata": {},
   "outputs": [],
   "source": [
    "def multi_Metric(trueY, predictY):\n",
    "    \n",
    " # exact math ratio\n",
    "    ratio = 0\n",
    "    for real, pred in zip(trueY.values, predictY.values):\n",
    "        same = (pred == real)\n",
    "        if sum(same) == trueY.shape[1]:\n",
    "            ratio += 1\n",
    "    ratio /= trueY.shape[0]\n",
    "    \n",
    "    \n",
    "    # hamming loss\n",
    "    missclf_labels = 0\n",
    "    for real, pred in zip(trueY.values, predictY.values):\n",
    "        missclf_labels += np.sum(real != pred)\n",
    "        \n",
    "    hamming = missclf_labels / (trueY.shape[0] * trueY.shape[1])\n",
    "    \n",
    "    \n",
    "    \n",
    "    print(\"Hamming Loss is: {}\".format(hamming))\n",
    "    print(\"Exact Match Ratio : {}\".format(ratio))\n",
    "    return hamming, ratio\n"
   ]
  },
  {
   "cell_type": "code",
   "execution_count": 15,
   "metadata": {},
   "outputs": [],
   "source": [
    "#define a multi label evaluation function \n",
    "\n",
    "def multil_Eval(title, testX, trueY, classifier):\n",
    "    predictY = pd.DataFrame(columns=trueY.columns)\n",
    "    for y in trueY.columns:\n",
    "        clf = classifier[y]\n",
    "        test_pred = clf.predict(testX)\n",
    "        predictY.loc[:, y] = test_pred\n",
    "    print(\"Multilabel evaluation of {}\".format(title))\n",
    "    hamming, exact_ratio = multi_Metric(trueY, predictY)\n",
    "    return [hamming, exact_ratio]"
   ]
  },
  {
   "cell_type": "code",
   "execution_count": 16,
   "metadata": {},
   "outputs": [
    {
     "name": "stdout",
     "output_type": "stream",
     "text": [
      "Multilabel evaluation of Gaussian Kernel SVC without Standarization\n",
      "Hamming Loss is: 0.008649984553599012\n",
      "Exact Match Ratio : 0.9865616311399444\n"
     ]
    }
   ],
   "source": [
    "\n",
    "# evaluation summary\n",
    "model_summary = {}\n",
    "model_summary['GaussianSVC_without_std'] = multil_Eval('Gaussian Kernel SVC without Standarization', test_X, test_data.iloc[:, -4:-1], gaussian_SVC)"
   ]
  },
  {
   "cell_type": "markdown",
   "metadata": {},
   "source": [
    "## 1.(b)-iii Repeat 1(b)ii with L1-penalized SVMs.\n"
   ]
  },
  {
   "cell_type": "code",
   "execution_count": 17,
   "metadata": {},
   "outputs": [],
   "source": [
    "from sklearn.preprocessing import StandardScaler\n",
    "\n",
    "# standardize data\n",
    "std_scaler = StandardScaler()\n",
    "std_train_X = std_scaler.fit_transform(train_X)\n",
    "std_test_X = std_scaler.fit_transform(test_X)"
   ]
  },
  {
   "cell_type": "code",
   "execution_count": 18,
   "metadata": {},
   "outputs": [
    {
     "name": "stdout",
     "output_type": "stream",
     "text": [
      "Fitting 10 folds for each of 10 candidates, totalling 100 fits\n",
      "\n",
      "The best parameters are:\n",
      "{'C': 10.0} \n",
      "\n",
      "              precision    recall  f1-score   support\n",
      "\n",
      "           0       0.97      0.96      0.97      1384\n",
      "           1       0.91      0.92      0.91       169\n",
      "           2       0.90      0.93      0.92       589\n",
      "           3       0.00      0.00      0.00        16\n",
      "\n",
      "    accuracy                           0.95      2158\n",
      "   macro avg       0.69      0.71      0.70      2158\n",
      "weighted avg       0.94      0.95      0.94      2158\n",
      "\n"
     ]
    }
   ],
   "source": [
    "tune_params = {'C' : np.logspace(1, 5, 10)}\n",
    "\n",
    "params = {'param_grid' : tune_params, 'cv' : split,'scoring' : 'f1_weighted'}\n",
    "\n",
    "L1_svm_model = {}\n",
    "\n",
    "#use standardized data for following questions\n",
    "\n",
    "L1_svm_model['Family'] = paramSearch(LinearSVC(penalty='l1', dual=False), params,std_train_X, train_Family, std_test_X, test_Family)"
   ]
  },
  {
   "cell_type": "code",
   "execution_count": 56,
   "metadata": {},
   "outputs": [
    {
     "name": "stdout",
     "output_type": "stream",
     "text": [
      "\n",
      "The best parameters are:\n",
      "{'C': 215.44346900318823} \n",
      "\n",
      "              precision    recall  f1-score   support\n",
      "\n",
      "           0       0.98      0.99      0.98      1301\n",
      "           1       0.92      0.96      0.94       169\n",
      "           2       0.88      0.65      0.75        89\n",
      "           3       0.92      0.98      0.95       421\n",
      "           4       0.97      0.92      0.94        83\n",
      "           5       1.00      0.55      0.71        38\n",
      "           6       0.91      0.62      0.74        16\n",
      "           7       0.97      0.93      0.95        41\n",
      "\n",
      "    accuracy                           0.96      2158\n",
      "   macro avg       0.94      0.83      0.87      2158\n",
      "weighted avg       0.96      0.96      0.95      2158\n",
      "\n"
     ]
    }
   ],
   "source": [
    "L1_svm_model['Genus'] = paramSearch(LinearSVC(penalty='l1',dual=False), params,std_train_X, train_Genus, std_test_X, test_Genus)"
   ]
  },
  {
   "cell_type": "code",
   "execution_count": 57,
   "metadata": {},
   "outputs": [
    {
     "name": "stdout",
     "output_type": "stream",
     "text": [
      "\n",
      "The best parameters are:\n",
      "{'C': 4641.588833612777} \n",
      "\n",
      "              precision    recall  f1-score   support\n",
      "\n",
      "           0       0.96      0.94      0.95       228\n",
      "           1       0.94      0.97      0.95       169\n",
      "           2       0.99      1.00      1.00      1073\n",
      "           3       0.88      0.76      0.82        89\n",
      "           4       0.92      0.94      0.93       129\n",
      "           5       0.92      0.98      0.95       292\n",
      "           6       0.96      0.94      0.95        83\n",
      "           7       1.00      0.66      0.79        38\n",
      "           8       0.88      0.88      0.88        16\n",
      "           9       0.98      0.98      0.98        41\n",
      "\n",
      "    accuracy                           0.96      2158\n",
      "   macro avg       0.94      0.90      0.92      2158\n",
      "weighted avg       0.96      0.96      0.96      2158\n",
      "\n"
     ]
    }
   ],
   "source": [
    "L1_svm_model['Species'] = paramSearch(LinearSVC(dual=False,penalty='l1'), params,std_train_X, train_Species, std_test_X, test_Species)"
   ]
  },
  {
   "cell_type": "code",
   "execution_count": 58,
   "metadata": {},
   "outputs": [
    {
     "name": "stdout",
     "output_type": "stream",
     "text": [
      "Multilabel evaluation of SVM with L1\n",
      "Hamming Loss is: 0.04464009885696633\n",
      "Exact Match Ratio : 0.922613531047266\n"
     ]
    }
   ],
   "source": [
    "model_summary['L1_SVC'] = multil_Eval(\"SVM with L1\", std_test_X,test_data.iloc[:,-4:-1],L1_svm_model)"
   ]
  },
  {
   "cell_type": "markdown",
   "metadata": {},
   "source": [
    "## 1.(b)-iv Repeat 1(b)iii by using SMOTE or any other method you know to remedy class imbalance."
   ]
  },
  {
   "cell_type": "code",
   "execution_count": 21,
   "metadata": {},
   "outputs": [],
   "source": [
    "def smoteParamSearch(classifier, params, trainX, trainY, testX, testY):\n",
    "    model = Pipeline([('sampling', SMOTE()),('classification', classifier)])\n",
    "    selected_model = paramSearch(model, params,trainX, trainY, testX, testY)\n",
    "    return selected_model"
   ]
  },
  {
   "cell_type": "code",
   "execution_count": 59,
   "metadata": {},
   "outputs": [],
   "source": [
    "tune_params = {'classification__C' : np.logspace(1, 4, 6)}\n",
    "params = {'param_grid' : tune_params, 'cv' : split,'scoring' : 'f1_weighted'}\n"
   ]
  },
  {
   "cell_type": "code",
   "execution_count": 46,
   "metadata": {},
   "outputs": [
    {
     "name": "stdout",
     "output_type": "stream",
     "text": [
      "\n",
      "The best parameters are:\n",
      "{'classification__C': 2511.88643150958} \n",
      "\n",
      "              precision    recall  f1-score   support\n",
      "\n",
      "           0       0.98      0.92      0.95      1384\n",
      "           1       0.79      0.99      0.88       169\n",
      "           2       0.91      0.89      0.90       589\n",
      "           3       0.21      0.94      0.34        16\n",
      "\n",
      "    accuracy                           0.92      2158\n",
      "   macro avg       0.72      0.93      0.77      2158\n",
      "weighted avg       0.94      0.92      0.93      2158\n",
      "\n"
     ]
    }
   ],
   "source": [
    "smote_svc_model = {}\n",
    "smote_svc_model['Family'] = smoteParamSearch(LinearSVC(max_iter=100000,dual= False,penalty='l1'), params,std_train_X, train_Family, std_test_X, test_Family)"
   ]
  },
  {
   "cell_type": "code",
   "execution_count": 60,
   "metadata": {},
   "outputs": [
    {
     "name": "stdout",
     "output_type": "stream",
     "text": [
      "\n",
      "The best parameters are:\n",
      "{'classification__C': 630.957344480193} \n",
      "\n",
      "              precision    recall  f1-score   support\n",
      "\n",
      "           0       0.99      0.91      0.95      1301\n",
      "           1       0.86      0.95      0.90       169\n",
      "           2       0.65      0.89      0.75        89\n",
      "           3       0.96      0.89      0.93       421\n",
      "           4       0.90      0.92      0.91        83\n",
      "           5       0.42      0.89      0.58        38\n",
      "           6       0.27      0.94      0.42        16\n",
      "           7       0.85      0.98      0.91        41\n",
      "\n",
      "    accuracy                           0.91      2158\n",
      "   macro avg       0.74      0.92      0.79      2158\n",
      "weighted avg       0.94      0.91      0.92      2158\n",
      "\n"
     ]
    }
   ],
   "source": [
    "smote_svc_model['Genus'] = smoteParamSearch(LinearSVC(max_iter=100000,dual= False,penalty='l1'), params,std_train_X, train_Genus, std_test_X, test_Genus)"
   ]
  },
  {
   "cell_type": "code",
   "execution_count": 61,
   "metadata": {},
   "outputs": [
    {
     "name": "stdout",
     "output_type": "stream",
     "text": [
      "\n",
      "The best parameters are:\n",
      "{'classification__C': 10000.0} \n",
      "\n",
      "              precision    recall  f1-score   support\n",
      "\n",
      "           0       0.97      0.92      0.94       228\n",
      "           1       0.95      0.93      0.94       169\n",
      "           2       1.00      0.99      1.00      1073\n",
      "           3       0.78      0.84      0.81        89\n",
      "           4       0.91      0.90      0.91       129\n",
      "           5       0.93      0.93      0.93       292\n",
      "           6       0.91      0.93      0.92        83\n",
      "           7       0.79      0.82      0.81        38\n",
      "           8       0.54      0.94      0.68        16\n",
      "           9       0.89      0.95      0.92        41\n",
      "\n",
      "    accuracy                           0.95      2158\n",
      "   macro avg       0.87      0.91      0.88      2158\n",
      "weighted avg       0.96      0.95      0.95      2158\n",
      "\n"
     ]
    }
   ],
   "source": [
    "smote_svc_model['Species'] = smoteParamSearch(LinearSVC(max_iter=100000,dual= False,penalty='l1'), params,std_train_X, train_Species, std_test_X, test_Species)"
   ]
  },
  {
   "cell_type": "code",
   "execution_count": 62,
   "metadata": {},
   "outputs": [
    {
     "name": "stdout",
     "output_type": "stream",
     "text": [
      "Multilabel evaluation of SVM with L1 penalty and SMOTE\n",
      "Hamming Loss is: 0.0730614766759345\n",
      "Exact Match Ratio : 0.8540315106580166\n"
     ]
    }
   ],
   "source": [
    "model_summary['SVC_L1_SMOTE'] = multil_Eval('SVM with L1 penalty and SMOTE', std_test_X, test_data.iloc[:, -4:-1], smote_svc_model)"
   ]
  },
  {
   "cell_type": "code",
   "execution_count": 63,
   "metadata": {},
   "outputs": [
    {
     "data": {
      "text/html": [
       "<div>\n",
       "<style scoped>\n",
       "    .dataframe tbody tr th:only-of-type {\n",
       "        vertical-align: middle;\n",
       "    }\n",
       "\n",
       "    .dataframe tbody tr th {\n",
       "        vertical-align: top;\n",
       "    }\n",
       "\n",
       "    .dataframe thead th {\n",
       "        text-align: right;\n",
       "    }\n",
       "</style>\n",
       "<table border=\"1\" class=\"dataframe\">\n",
       "  <thead>\n",
       "    <tr style=\"text-align: right;\">\n",
       "      <th></th>\n",
       "      <th>GaussianSVC_without_std</th>\n",
       "      <th>SVC_L1_SMOTE</th>\n",
       "      <th>L1_SVC</th>\n",
       "      <th>metrics</th>\n",
       "    </tr>\n",
       "  </thead>\n",
       "  <tbody>\n",
       "    <tr>\n",
       "      <th>0</th>\n",
       "      <td>0.008650</td>\n",
       "      <td>0.073061</td>\n",
       "      <td>0.044640</td>\n",
       "      <td>hamming loss</td>\n",
       "    </tr>\n",
       "    <tr>\n",
       "      <th>1</th>\n",
       "      <td>0.986562</td>\n",
       "      <td>0.854032</td>\n",
       "      <td>0.922614</td>\n",
       "      <td>exact match ratio</td>\n",
       "    </tr>\n",
       "  </tbody>\n",
       "</table>\n",
       "</div>"
      ],
      "text/plain": [
       "   GaussianSVC_without_std  SVC_L1_SMOTE    L1_SVC            metrics\n",
       "0                 0.008650      0.073061  0.044640       hamming loss\n",
       "1                 0.986562      0.854032  0.922614  exact match ratio"
      ]
     },
     "execution_count": 63,
     "metadata": {},
     "output_type": "execute_result"
    }
   ],
   "source": [
    "model_summary['metrics'] = ['hamming loss', 'exact match ratio']\n",
    "summary = pd.DataFrame(model_summary)\n",
    "summary"
   ]
  },
  {
   "cell_type": "markdown",
   "metadata": {},
   "source": [
    "Conclusions: after smote and l1 penalty added into the model ,we can see that the loss and exact match ratio both become worse than the Gaussian without std. Especially, smote decreases the performance the most."
   ]
  },
  {
   "cell_type": "markdown",
   "metadata": {},
   "source": [
    "## 2. K-Means Clustering on a Multi-Class and Multi-Label Data Set"
   ]
  },
  {
   "cell_type": "markdown",
   "metadata": {},
   "source": [
    "### a) Use k-means clustering on the whole Anuran Calls (MFCCs) Data Set"
   ]
  },
  {
   "cell_type": "code",
   "execution_count": 32,
   "metadata": {},
   "outputs": [],
   "source": [
    "from sklearn.cluster import KMeans\n",
    "from sklearn.metrics import silhouette_samples, silhouette_score"
   ]
  },
  {
   "cell_type": "code",
   "execution_count": 33,
   "metadata": {},
   "outputs": [],
   "source": [
    "# define a kmeans fit function and calculate silhouette score\n",
    "def silhouettescore(n_clusters, X, rs):\n",
    "    silhouettescore = []\n",
    "    for i in range(2, n_clusters+5):\n",
    "        clusterer = KMeans(n_clusters=i, random_state = rs)\n",
    "        cluster_labels = clusterer.fit_predict(X)\n",
    "        silhouettescore.append(silhouette_score(X, cluster_labels))\n",
    "    silhouettescore = np.array(silhouettescore)\n",
    "    last = int(np.array([clus for clus in range(2, n_clusters+5)])[silhouettescore==max(silhouettescore)])\n",
    "    return last "
   ]
  },
  {
   "cell_type": "markdown",
   "metadata": {},
   "source": [
    "# (b) Label Majority in each cluster\n"
   ]
  },
  {
   "cell_type": "code",
   "execution_count": 34,
   "metadata": {},
   "outputs": [
    {
     "name": "stdout",
     "output_type": "stream",
     "text": [
      "best k is: 4\n",
      "max Silhouettes score is: 0.3787509343305295\n"
     ]
    }
   ],
   "source": [
    "from sklearn.cluster import KMeans\n",
    "from sklearn.metrics import silhouette_score\n",
    "\n",
    "mfcc_path = \"../data/Frogs_MFCCs.csv\"\n",
    "\n",
    "mfcc_data = pd.read_csv(mfcc_path)\n",
    "\n",
    "x_whole = mfcc_data.iloc[:, :22]\n",
    "y_whole = mfcc_data.iloc[:, 22:-1]\n",
    "\n",
    "kList = np.arange(2, 51)\n",
    "bestK = 1\n",
    "maxScore = 0\n",
    "for k in kList:\n",
    "    kmeansModel = KMeans(n_clusters=k).fit(x_whole)\n",
    "    labels = kmeansModel.labels_\n",
    "    score = silhouette_score(x_whole, labels)\n",
    "    if score > maxScore:\n",
    "        maxScore = score\n",
    "        bestK = k\n",
    "print('best k is:', bestK)\n",
    "print('max Silhouettes score is:', maxScore)"
   ]
  },
  {
   "cell_type": "code",
   "execution_count": 35,
   "metadata": {},
   "outputs": [
    {
     "name": "stdout",
     "output_type": "stream",
     "text": [
      "Cluster: 0 \tThe Majority in Family: Hylidae\n",
      "Cluster: 0 \tThe Majority in Genus: Hypsiboas\n",
      "Cluster: 0 \tThe Majority in Species: HypsiboasCordobae\n",
      "Cluster: 1 \tThe Majority in Family: Leptodactylidae\n",
      "Cluster: 1 \tThe Majority in Genus: Adenomera\n",
      "Cluster: 1 \tThe Majority in Species: AdenomeraHylaedactylus\n",
      "Cluster: 2 \tThe Majority in Family: Hylidae\n",
      "Cluster: 2 \tThe Majority in Genus: Hypsiboas\n",
      "Cluster: 2 \tThe Majority in Species: HypsiboasCinerascens\n",
      "Cluster: 3 \tThe Majority in Family: Dendrobatidae\n",
      "Cluster: 3 \tThe Majority in Genus: Ameerega\n",
      "Cluster: 3 \tThe Majority in Species: Ameeregatrivittata\n"
     ]
    }
   ],
   "source": [
    "kmeans = KMeans(n_clusters=bestK, random_state=123).fit(x_whole)\n",
    "labels = kmeans.labels_\n",
    "\n",
    "y1 = y_whole['Family']\n",
    "y2 = y_whole['Genus']\n",
    "y3 = y_whole['Species']\n",
    "\n",
    "\n",
    "\n",
    "clusterIndex = dict()\n",
    "\n",
    "labels = pd.Series(labels)\n",
    "\n",
    "# get each cluster \n",
    "for i in range(bestK):\n",
    "    clusterIndex[i] = labels.index[labels==i].tolist()\n",
    "\n",
    "    majorityInFamily = y1[clusterIndex[i]].value_counts().index[0]\n",
    "    majorityInGenus = y2[clusterIndex[i]].value_counts().index[0]\n",
    "    majorityInSpecies = y3[clusterIndex[i]].value_counts().index[0]\n",
    "    \n",
    "    print('Cluster:', i, '\\tThe Majority in Family:', majorityInFamily)\n",
    "    print('Cluster:', i, '\\tThe Majority in Genus:', majorityInGenus)\n",
    "    print('Cluster:', i, '\\tThe Majority in Species:', majorityInSpecies)"
   ]
  },
  {
   "cell_type": "code",
   "execution_count": 36,
   "metadata": {},
   "outputs": [],
   "source": [
    "\n",
    "distances = []\n",
    "scores = []\n",
    "loss = []\n",
    "pd.concat([y1, y1, y1], axis=1)\n",
    "yDatasetCol = y1.append(y2).append(y3)\n",
    "\n",
    "\n",
    "\n",
    "\n",
    "#function for geting hamming distance\n",
    "\n",
    "def getHammingDistance(yTrue,pred):\n",
    "    pred = pred.reset_index().iloc[:,1:]\n",
    "    yTrue = yTrue.reset_index().iloc[:,1:]\n",
    "    totalInstance = pred.shape[0]\n",
    "    correct = 0\n",
    "    for i, row in enumerate(pred.iterrows()):\n",
    "        if pred.loc[i].tolist() == yTrue.loc[i].tolist():\n",
    "            correct += 1\n",
    "    return totalInstance - correct\n",
    "\n",
    "#get hamming score\n",
    "\n",
    "def getHammingScore(yTrue,pred):\n",
    "    pred = pred.reset_index().iloc[:,1:]\n",
    "    yTrue = yTrue.reset_index().iloc[:,1:]\n",
    "    totalInstance = pred.shape[0]\n",
    "    correct = 0\n",
    "    for i, row in enumerate(pred.iterrows()):\n",
    "        if pred.loc[i].tolist() == yTrue.loc[i].tolist():\n",
    "            correct += 1\n",
    "    return correct/totalInstance\n",
    "\n",
    "\n",
    "\n",
    "clus_num =4\n",
    "\n",
    "for i in range(50):\n",
    "    kmeans = KMeans(n_clusters=bestK).fit(x_whole)\n",
    "    labels = kmeans.labels_\n",
    "    \n",
    "    clusterIndex = {}\n",
    "    labels = pd.Series(labels)\n",
    "    clusterMajority = {}\n",
    "    # get each cluster \n",
    "    for i in range(bestK):\n",
    "        clusterIndex[i] = labels.index[labels==i].tolist()\n",
    "        majorityInFamily = y1[clusterIndex[i]].value_counts().index[0]\n",
    "        majorityInGenus = y2[clusterIndex[i]].value_counts().index[0]\n",
    "        majorityInSpecies = y3[clusterIndex[i]].value_counts().index[0]\n",
    "        clusterMajority[i] = [majorityInFamily, majorityInGenus, majorityInSpecies]\n",
    "    \n",
    "    y_Labels = pd.DataFrame(columns=y_whole.columns, index=y_whole.index)\n",
    "    \n",
    "    for cluster in range(clus_num):\n",
    "        for i in clusterIndex[cluster]:\n",
    "            y_Labels.loc[i] = clusterMajority[cluster]\n",
    "\n",
    "    \n",
    "    hammingDistance = getHammingDistance( y_whole, y_Labels)\n",
    "    hammingScore = getHammingScore(y_whole, y_Labels)\n",
    "    hammingLoss = 1 - hammingScore\n",
    "    \n",
    "    distances.append(hammingDistance)\n",
    "    scores.append(hammingScore)\n",
    "    loss.append(hammingLoss)"
   ]
  },
  {
   "cell_type": "code",
   "execution_count": 37,
   "metadata": {},
   "outputs": [
    {
     "name": "stdout",
     "output_type": "stream",
     "text": [
      "Ava Hamming Disance 1806.46\n",
      "Std Hamming Disance 140.286\n"
     ]
    }
   ],
   "source": [
    "print('Ava Hamming Disance', round(np.array(distances).mean(), 3))\n",
    "print('Std Hamming Disance', round(np.array(distances).std(), 3))\n"
   ]
  },
  {
   "cell_type": "code",
   "execution_count": 38,
   "metadata": {},
   "outputs": [
    {
     "name": "stdout",
     "output_type": "stream",
     "text": [
      "Ava Hamming Score 0.749\n",
      "Std Hamming Score 0.019\n"
     ]
    }
   ],
   "source": [
    "print('Ava Hamming Score', round(np.array(scores).mean(), 3))\n",
    "print('Std Hamming Score', round(np.array(scores).std(), 3))\n"
   ]
  },
  {
   "cell_type": "code",
   "execution_count": 39,
   "metadata": {},
   "outputs": [
    {
     "name": "stdout",
     "output_type": "stream",
     "text": [
      "Ava Hamming Loss 0.251\n",
      "Std Hamming Score 0.019\n"
     ]
    }
   ],
   "source": [
    "print('Ava Hamming Loss', round(np.array(loss).mean(), 3))\n",
    "print('Std Hamming Score', round(np.array(scores).std(), 3))"
   ]
  },
  {
   "cell_type": "markdown",
   "metadata": {},
   "source": [
    "# 3. ISLR 12.6.2"
   ]
  },
  {
   "cell_type": "markdown",
   "metadata": {},
   "source": [
    "### (a) On the basis of this dissimilarity matrix, sketch the dendrogram that results from hierarchically clustering these four observations using complete linkage. Be sure to indicate on the plot the height at which each fusion occurs, as well as the observations corresponding to each leaf in the dendrogram."
   ]
  },
  {
   "cell_type": "code",
   "execution_count": 64,
   "metadata": {},
   "outputs": [
    {
     "data": {
      "image/png": "[encoded data removed]",
      "text/plain": [
       "<Figure size 1080x720 with 1 Axes>"
      ]
     },
     "metadata": {},
     "output_type": "display_data"
    }
   ],
   "source": [
    "from scipy.cluster.hierarchy import dendrogram, linkage\n",
    "from scipy.spatial.distance import squareform\n",
    "\n",
    "\n",
    "fig = plt.figure(figsize=(15,10))\n",
    "ax = fig.add_subplot()\n",
    "\n",
    "mat = np.array([[0.0, 0.3, 0.4, 0.7], [0.3, 0.0, 0.5, 0.8], [0.4, 0.5, 0.0, 0.45], [0.7, 0.8, 0.45, 0.0]])\n",
    "\n",
    "\n",
    "linkage_matrix = linkage(squareform(mat), \"complete\")\n",
    "\n",
    "\n",
    "\n",
    "dendrogram(linkage_matrix, labels=[\"1\", \"2\", \"3\", \"4\"])\n",
    "\n",
    "plt.show()"
   ]
  },
  {
   "cell_type": "markdown",
   "metadata": {},
   "source": [
    "### (b) Repeat (a), this time using single linkage clustering.\n"
   ]
  },
  {
   "cell_type": "code",
   "execution_count": 65,
   "metadata": {},
   "outputs": [
    {
     "data": {
      "image/png": "[encoded data removed]",
      "text/plain": [
       "<Figure size 1080x720 with 1 Axes>"
      ]
     },
     "metadata": {},
     "output_type": "display_data"
    }
   ],
   "source": [
    "fig = plt.figure(figsize=(15,10))\n",
    "ax = fig.add_subplot()\n",
    "\n",
    "linkage_matrix = linkage(squareform(mat), \"single\")\n",
    "\n",
    "dendrogram(linkage_matrix, labels=[\"1\", \"2\", \"3\", \"4\"])\n",
    "plt.show()"
   ]
  },
  {
   "cell_type": "markdown",
   "metadata": {},
   "source": [
    "### (c)Suppose that we cut the dendrogram obtained in (a) such thattwo clusters result. Which observations are in each cluster?\n",
    "\n",
    "Observations 1 and 2 are in Cluster A.\n",
    "3 and 4 in Cluster B."
   ]
  },
  {
   "cell_type": "markdown",
   "metadata": {},
   "source": [
    "### (d) Suppose that we cut the dendogram obtained in (b) such that two clusters result. Which observations are in each cluster?\n",
    "\n",
    " Observations 1, 2 and 3 are in Cluster A\n",
    " 4 in Cluster B."
   ]
  },
  {
   "cell_type": "markdown",
   "metadata": {},
   "source": [
    "### (e)It is mentioned in the chapter that at each fusion in the den-drogram, the position of the two clusters being fused can beswapped without changing the meaning of the dendrogram. Drawa dendrogram that is equivalent to the dendrogram in (a), forwhich two or more of the leaves are repositioned, but for whichthe meaning of the dendrogram is the same."
   ]
  },
  {
   "cell_type": "code",
   "execution_count": 66,
   "metadata": {},
   "outputs": [
    {
     "data": {
      "image/png": "[encoded data removed]",
      "text/plain": [
       "<Figure size 1080x720 with 1 Axes>"
      ]
     },
     "metadata": {},
     "output_type": "display_data"
    }
   ],
   "source": [
    "\n",
    "fig = plt.figure(figsize=(15,10))\n",
    "ax = fig.add_subplot()\n",
    "\n",
    "mat = np.array([[0.0, 0.3, 0.4, 0.7], [0.3, 0.0, 0.5, 0.8], [0.4, 0.5, 0.0, 0.45], [0.7, 0.8, 0.45, 0.0]])\n",
    "\n",
    "linkage_matrix = linkage(squareform(mat), \"complete\")\n",
    "\n",
    "dendrogram(linkage_matrix, labels=[\"1\", \"4\", \"3\", \"2\"])\n",
    "\n",
    "plt.show()"
   ]
  },
  {
   "cell_type": "code",
   "execution_count": null,
   "metadata": {},
   "outputs": [],
   "source": []
  }
 ],
 "metadata": {
  "kernelspec": {
   "display_name": "Python 3",
   "language": "python",
   "name": "python3"
  },
  "language_info": {
   "codemirror_mode": {
    "name": "ipython",
    "version": 3
   },
   "file_extension": ".py",
   "mimetype": "text/x-python",
   "name": "python",
   "nbconvert_exporter": "python",
   "pygments_lexer": "ipython3",
   "version": "3.8.0"
  }
 },
 "nbformat": 4,
 "nbformat_minor": 2
}
